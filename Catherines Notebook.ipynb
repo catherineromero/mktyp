{
 "cells": [
  {
   "cell_type": "code",
   "execution_count": 3,
   "metadata": {},
   "outputs": [
    {
     "name": "stdout",
     "output_type": "stream",
     "text": [
      "I will convert hours to months\n",
      "how many months? 6\n",
      "There is 4380 in months\n"
     ]
    }
   ],
   "source": [
    "print(\"I will convert hours to months\")\n",
    "months = int(input(\"how many months? \"))\n",
    "hours = months * 730\n",
    "print(\"There is \"+str(hours)+\" in months\")"
   ]
  },
  {
   "cell_type": "code",
   "execution_count": 2,
   "metadata": {},
   "outputs": [
    {
     "name": "stdout",
     "output_type": "stream",
     "text": [
      "I will convert hours to months\n",
      "how many months?7\n",
      "There is 5110 in months\n"
     ]
    }
   ],
   "source": [
    "print(\"I will convert hours to months\")\n",
    "months = int(input(\"how many months?\"))\n",
    "hours = months * 730\n",
    "print(\"There is \"+str(hours)+\" in months\")"
   ]
  },
  {
   "cell_type": "code",
   "execution_count": 11,
   "metadata": {},
   "outputs": [
    {
     "name": "stdout",
     "output_type": "stream",
     "text": [
      "Degree to Radian calculator\n",
      "Enter an angle in degrees: 3\n",
      "The angle 3.0 degrees is 0.05235987755982988 radians.\n"
     ]
    }
   ],
   "source": [
    "\n",
    "# write your code for the degToRadian function here ...\n",
    "import math\n",
    "def deg2radian(degrees):\n",
    "    r= degrees/180* math.pi\n",
    "    return r\n",
    "\n",
    "print(\"Degree to Radian calculator\")\n",
    "degrees=float(input(\"Enter an angle in degrees: \"))\n",
    "radian=deg2radian(degrees)\n",
    "print(\"The angle \"\n",
    "+ str(degrees)+\" degrees is \"\n",
    "+str(radian)+\n",
    "\" radians.\")"
   ]
  },
  {
   "cell_type": "code",
   "execution_count": 14,
   "metadata": {},
   "outputs": [
    {
     "name": "stdout",
     "output_type": "stream",
     "text": [
      "Distance from speed and time calculator \n",
      "Enter the average speed they travelled 3\n",
      "Enter the time they travelled 3\n",
      "If you've travelled at 3.0 miles in 3.0 hours then you've travelled at 9.0 mph \n"
     ]
    }
   ],
   "source": [
    "import math\n",
    "def distance (speed,time):\n",
    "    distance=speed*time\n",
    "    return distance\n",
    "print(\"Distance from speed and time calculator \")\n",
    "speed=float(input(\"Enter the average speed they travelled \"))\n",
    "time=float(input(\"Enter the time they travelled \"))\n",
    "distance= distance(speed,time)\n",
    "print(\"If you've travelled at \" + str(speed) + \" miles in \" + str(time)+  \" hours then you've travelled at \" + str(distance) + \" mph \")"
   ]
  },
  {
   "cell_type": "code",
   "execution_count": null,
   "metadata": {},
   "outputs": [],
   "source": [
    "import math \n",
    "def mapdistt(x,y):\n",
    "       d= math.sqrt((x*x) + (y*y))\n",
    "       return d\n",
    "print (\"Map Disatance Calculator\")\n",
    "x= float(input(\"Enter x: \"))\n",
    "y= float(input(\"Enter y: \"))\n",
    "disatance= mapdist(x,y)\n",
    "print( \"The distance between \"+ str(x) + \" and \"+ str(y)+ \" is \" + str(distance))"
   ]
  },
  {
   "cell_type": "code",
   "execution_count": null,
   "metadata": {},
   "outputs": [],
   "source": []
  }
 ],
 "metadata": {
  "kernelspec": {
   "display_name": "Python 3",
   "language": "python",
   "name": "python3"
  },
  "language_info": {
   "codemirror_mode": {
    "name": "ipython",
    "version": 3
   },
   "file_extension": ".py",
   "mimetype": "text/x-python",
   "name": "python",
   "nbconvert_exporter": "python",
   "pygments_lexer": "ipython3",
   "version": "3.7.0"
  }
 },
 "nbformat": 4,
 "nbformat_minor": 2
}
